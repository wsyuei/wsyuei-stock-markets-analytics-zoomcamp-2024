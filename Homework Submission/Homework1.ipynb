{
  "nbformat": 4,
  "nbformat_minor": 0,
  "metadata": {
    "colab": {
      "provenance": [],
      "authorship_tag": "ABX9TyPTJXD77TakFD1GwO+l8YVG",
      "include_colab_link": true
    },
    "kernelspec": {
      "name": "python3",
      "display_name": "Python 3"
    },
    "language_info": {
      "name": "python"
    }
  },
  "cells": [
    {
      "cell_type": "markdown",
      "metadata": {
        "id": "view-in-github",
        "colab_type": "text"
      },
      "source": [
        "<a href=\"https://colab.research.google.com/github/wsyuei/wsyuei-stock-markets-analytics-zoomcamp-2024/blob/master/Homework%20Submission/Homework1.ipynb\" target=\"_parent\"><img src=\"https://colab.research.google.com/assets/colab-badge.svg\" alt=\"Open In Colab\"/></a>"
      ]
    },
    {
      "cell_type": "code",
      "execution_count": 1,
      "metadata": {
        "colab": {
          "base_uri": "https://localhost:8080/"
        },
        "id": "TxUEa9_NCKuA",
        "outputId": "8dfe5a11-68df-491e-ebe8-861f08f4d5e7"
      },
      "outputs": [
        {
          "output_type": "stream",
          "name": "stdout",
          "text": [
            "Requirement already satisfied: yfinance in /usr/local/lib/python3.10/dist-packages (0.2.38)\n",
            "Requirement already satisfied: pandas>=1.3.0 in /usr/local/lib/python3.10/dist-packages (from yfinance) (2.0.3)\n",
            "Requirement already satisfied: numpy>=1.16.5 in /usr/local/lib/python3.10/dist-packages (from yfinance) (1.25.2)\n",
            "Requirement already satisfied: requests>=2.31 in /usr/local/lib/python3.10/dist-packages (from yfinance) (2.31.0)\n",
            "Requirement already satisfied: multitasking>=0.0.7 in /usr/local/lib/python3.10/dist-packages (from yfinance) (0.0.11)\n",
            "Requirement already satisfied: lxml>=4.9.1 in /usr/local/lib/python3.10/dist-packages (from yfinance) (4.9.4)\n",
            "Requirement already satisfied: appdirs>=1.4.4 in /usr/local/lib/python3.10/dist-packages (from yfinance) (1.4.4)\n",
            "Requirement already satisfied: pytz>=2022.5 in /usr/local/lib/python3.10/dist-packages (from yfinance) (2023.4)\n",
            "Requirement already satisfied: frozendict>=2.3.4 in /usr/local/lib/python3.10/dist-packages (from yfinance) (2.4.2)\n",
            "Requirement already satisfied: peewee>=3.16.2 in /usr/local/lib/python3.10/dist-packages (from yfinance) (3.17.3)\n",
            "Requirement already satisfied: beautifulsoup4>=4.11.1 in /usr/local/lib/python3.10/dist-packages (from yfinance) (4.12.3)\n",
            "Requirement already satisfied: html5lib>=1.1 in /usr/local/lib/python3.10/dist-packages (from yfinance) (1.1)\n",
            "Requirement already satisfied: soupsieve>1.2 in /usr/local/lib/python3.10/dist-packages (from beautifulsoup4>=4.11.1->yfinance) (2.5)\n",
            "Requirement already satisfied: six>=1.9 in /usr/local/lib/python3.10/dist-packages (from html5lib>=1.1->yfinance) (1.16.0)\n",
            "Requirement already satisfied: webencodings in /usr/local/lib/python3.10/dist-packages (from html5lib>=1.1->yfinance) (0.5.1)\n",
            "Requirement already satisfied: python-dateutil>=2.8.2 in /usr/local/lib/python3.10/dist-packages (from pandas>=1.3.0->yfinance) (2.8.2)\n",
            "Requirement already satisfied: tzdata>=2022.1 in /usr/local/lib/python3.10/dist-packages (from pandas>=1.3.0->yfinance) (2024.1)\n",
            "Requirement already satisfied: charset-normalizer<4,>=2 in /usr/local/lib/python3.10/dist-packages (from requests>=2.31->yfinance) (3.3.2)\n",
            "Requirement already satisfied: idna<4,>=2.5 in /usr/local/lib/python3.10/dist-packages (from requests>=2.31->yfinance) (3.7)\n",
            "Requirement already satisfied: urllib3<3,>=1.21.1 in /usr/local/lib/python3.10/dist-packages (from requests>=2.31->yfinance) (2.0.7)\n",
            "Requirement already satisfied: certifi>=2017.4.17 in /usr/local/lib/python3.10/dist-packages (from requests>=2.31->yfinance) (2024.2.2)\n"
          ]
        }
      ],
      "source": [
        "# install main library YFinance\n",
        "!pip install yfinance"
      ]
    },
    {
      "cell_type": "code",
      "source": [
        "# IMPORTS\n",
        "import numpy as np\n",
        "import pandas as pd\n",
        "\n",
        "#Fin Data Sources\n",
        "import yfinance as yf\n",
        "import pandas_datareader as pdr\n",
        "\n",
        "#Data viz\n",
        "import plotly.graph_objs as go\n",
        "import plotly.express as px\n",
        "\n",
        "import time\n",
        "from datetime import date"
      ],
      "metadata": {
        "id": "637WS55dCPkx"
      },
      "execution_count": 2,
      "outputs": []
    },
    {
      "cell_type": "code",
      "source": [
        "end = date.today()\n",
        "print(f'Year = {end.year}; month= {end.month}; day={end.day}')\n",
        "\n",
        "start = date(year=end.year-70, month=end.month, day=end.day)\n",
        "print(f'Period for indexes: {start} to {end} ')"
      ],
      "metadata": {
        "colab": {
          "base_uri": "https://localhost:8080/"
        },
        "id": "TK8B_80QC0wa",
        "outputId": "62e54567-0a56-4500-dd23-a6bc02bb2c54"
      },
      "execution_count": 3,
      "outputs": [
        {
          "output_type": "stream",
          "name": "stdout",
          "text": [
            "Year = 2024; month= 4; day=22\n",
            "Period for indexes: 1954-04-22 to 2024-04-22 \n"
          ]
        }
      ]
    },
    {
      "cell_type": "markdown",
      "source": [
        "# **Question 1: [Macro] Average growth of GDP in 2023**\n",
        "What is the average growth (in %) of GDP in 2023?\n",
        "\n",
        "Download the timeseries Real Gross Domestic Product (GDPC1) from FRED (https://fred.stlouisfed.org/series/GDPC1). Calculate year-over-year (YoY) growth rate (that is, divide current value to one 4 quarters ago). Find the average YoY growth in 2023 (average from 4 YoY numbers). Round to 1 digit after the decimal point: e.g. if you get 5.66% growth => you should answer 5.7"
      ],
      "metadata": {
        "id": "ou3HfhxgClg3"
      }
    },
    {
      "cell_type": "code",
      "source": [
        "# Real Potential Gross Domestic Product (GDPPOT), Billions of Chained 2012 Dollars, QUARTERLY\n",
        "# https://fred.stlouisfed.org/series/GDPC1\n",
        "gdppot = pdr.DataReader(\"GDPC1\", \"fred\", start='2022-01-01')"
      ],
      "metadata": {
        "id": "2DrJZ06YCPtH"
      },
      "execution_count": 30,
      "outputs": []
    },
    {
      "cell_type": "code",
      "source": [
        "gdppot['gdpc1_us_yoy'] = gdppot.GDPC1/gdppot.GDPC1.shift(4)-1\n",
        "gdppot['gdpc1_us_qoq'] = gdppot.GDPC1/gdppot.GDPC1.shift(1)-1\n",
        "gdppot['gdpc1_us_yoy'].mean()"
      ],
      "metadata": {
        "colab": {
          "base_uri": "https://localhost:8080/"
        },
        "id": "7XQjqYhHCPvY",
        "outputId": "930ca3a1-a2d4-4925-eb9b-b235a068d684"
      },
      "execution_count": 32,
      "outputs": [
        {
          "output_type": "execute_result",
          "data": {
            "text/plain": [
              "0.02540443392867625"
            ]
          },
          "metadata": {},
          "execution_count": 32
        }
      ]
    },
    {
      "cell_type": "markdown",
      "source": [
        "# **Question 2. [Macro] Inverse \"Treasury Yield\"**\n",
        "Find the min value of (dgs10-dgs2) after since year 2000 (2000-01-01) and write it down as an answer, round to 1 digit after the decimal point.\n",
        "\n",
        "Download DGS2 and DGS10 interest rates series (https://fred.stlouisfed.org/series/DGS2, https://fred.stlouisfed.org/series/DGS10). Join them together to one dataframe on date (you might need to read about pandas.DataFrame.join()), calculate the difference dgs10-dgs2 daily.\n",
        "\n",
        "(Additional: think about what does the \"inverted yield curve\" mean for the market and investors? do you see the same thing in your country/market of interest? Do you think it can be a good predictive feature for the models?)"
      ],
      "metadata": {
        "id": "YM3m-7_jExXh"
      }
    },
    {
      "cell_type": "code",
      "source": [
        "# # \"Core CPI index\", MONTHLY\n",
        "# https://fred.stlouisfed.org/series/CPILFESL\n",
        "# The \"Consumer Price Index for All Urban Consumers: All Items Less Food & Energy\"\n",
        "# is an aggregate of prices paid by urban consumers for a typical basket of goods, excluding food and energy.\n",
        "# This measurement, known as \"Core CPI,\" is widely used by economists because food and energy have very volatile prices.\n",
        "dgs2 = pdr.DataReader(\"DGS2\", \"fred\", start='2000-01-01')\n",
        "dgs10 = pdr.DataReader(\"DGS10\", \"fred\", start='2000-01-01')"
      ],
      "metadata": {
        "id": "BEmyDqEJC_Mv"
      },
      "execution_count": 20,
      "outputs": []
    },
    {
      "cell_type": "code",
      "source": [
        "dgs2_10 = pd.merge(dgs2, dgs10, on='DATE')\n",
        "dgs2_10['result'] = dgs2_10['DGS10'] - dgs2_10['DGS2']\n",
        "print(dgs2_10['result'].min())"
      ],
      "metadata": {
        "colab": {
          "base_uri": "https://localhost:8080/"
        },
        "id": "ZqhlZs6EFoGX",
        "outputId": "3caab562-add2-40f8-afe6-b919257abee0"
      },
      "execution_count": 22,
      "outputs": [
        {
          "output_type": "stream",
          "name": "stdout",
          "text": [
            "-1.0800000000000005\n"
          ]
        }
      ]
    },
    {
      "cell_type": "markdown",
      "source": [
        "# **Question 3. [Index] Which Index is better recently?**\n",
        "Compare S&P 500 and IPC Mexico indexes by the 5 year growth and write down the largest value as an answer (%)\n",
        "\n",
        "Download on Yahoo Finance two daily index prices for S&P 500 (^GSPC, https://finance.yahoo.com/quote/%5EGSPC/) and IPC Mexico (^MXX, https://finance.yahoo.com/quote/%5EMXX/). Compare 5Y growth for both (between 2019-04-09 and 2024-04-09). Select the higher growing index and write down the growth in % (closest integer %). E.g. if ratio end/start was 2.0925 (or growth of 109.25%), you need to write down 109 as your answer.\n",
        "\n",
        "(Additional: think of other indexes and try to download stats and compare the growth? Do create 10Y and 20Y growth stats. What is an average yearly growth rate (CAGR) for each of the indexes you select?)"
      ],
      "metadata": {
        "id": "BbYSmXajIz0n"
      }
    },
    {
      "cell_type": "code",
      "source": [
        "# Other indexes: https://stooq.com/t/\n",
        "\n",
        "# SPX= S&P500\n",
        "spx_index = yf.download(tickers ='^GSPC', start = '2019-04-09', end = '2024-04-09')\n",
        "mxx_index = yf.download(tickers ='^MXX', start = '2019-04-09', end = '2024-04-09')\n",
        "mxx_index.head()"
      ],
      "metadata": {
        "colab": {
          "base_uri": "https://localhost:8080/",
          "height": 272
        },
        "id": "SnU6eD4tIzfH",
        "outputId": "919e7dde-ab72-43a9-dad1-8af4ccfcdbe3"
      },
      "execution_count": 39,
      "outputs": [
        {
          "output_type": "stream",
          "name": "stderr",
          "text": [
            "[*********************100%%**********************]  1 of 1 completed\n",
            "[*********************100%%**********************]  1 of 1 completed\n"
          ]
        },
        {
          "output_type": "execute_result",
          "data": {
            "text/plain": [
              "                    Open          High           Low         Close  \\\n",
              "Date                                                                 \n",
              "2019-04-09  45346.828125  45346.828125  44854.531250  45151.628906   \n",
              "2019-04-10  45204.750000  45219.410156  44850.109375  44909.140625   \n",
              "2019-04-11  44872.531250  44966.500000  44373.488281  44580.058594   \n",
              "2019-04-12  44767.671875  44888.699219  44534.378906  44686.058594   \n",
              "2019-04-15  44649.738281  44900.929688  44347.531250  44625.781250   \n",
              "\n",
              "               Adj Close     Volume  \n",
              "Date                                 \n",
              "2019-04-09  45151.628906  191575000  \n",
              "2019-04-10  44909.140625  145314900  \n",
              "2019-04-11  44580.058594  109090000  \n",
              "2019-04-12  44686.058594  143662400  \n",
              "2019-04-15  44625.781250  108627100  "
            ],
            "text/html": [
              "\n",
              "  <div id=\"df-bdb63734-dfaf-4e86-b548-2d5eda1f8886\" class=\"colab-df-container\">\n",
              "    <div>\n",
              "<style scoped>\n",
              "    .dataframe tbody tr th:only-of-type {\n",
              "        vertical-align: middle;\n",
              "    }\n",
              "\n",
              "    .dataframe tbody tr th {\n",
              "        vertical-align: top;\n",
              "    }\n",
              "\n",
              "    .dataframe thead th {\n",
              "        text-align: right;\n",
              "    }\n",
              "</style>\n",
              "<table border=\"1\" class=\"dataframe\">\n",
              "  <thead>\n",
              "    <tr style=\"text-align: right;\">\n",
              "      <th></th>\n",
              "      <th>Open</th>\n",
              "      <th>High</th>\n",
              "      <th>Low</th>\n",
              "      <th>Close</th>\n",
              "      <th>Adj Close</th>\n",
              "      <th>Volume</th>\n",
              "    </tr>\n",
              "    <tr>\n",
              "      <th>Date</th>\n",
              "      <th></th>\n",
              "      <th></th>\n",
              "      <th></th>\n",
              "      <th></th>\n",
              "      <th></th>\n",
              "      <th></th>\n",
              "    </tr>\n",
              "  </thead>\n",
              "  <tbody>\n",
              "    <tr>\n",
              "      <th>2019-04-09</th>\n",
              "      <td>45346.828125</td>\n",
              "      <td>45346.828125</td>\n",
              "      <td>44854.531250</td>\n",
              "      <td>45151.628906</td>\n",
              "      <td>45151.628906</td>\n",
              "      <td>191575000</td>\n",
              "    </tr>\n",
              "    <tr>\n",
              "      <th>2019-04-10</th>\n",
              "      <td>45204.750000</td>\n",
              "      <td>45219.410156</td>\n",
              "      <td>44850.109375</td>\n",
              "      <td>44909.140625</td>\n",
              "      <td>44909.140625</td>\n",
              "      <td>145314900</td>\n",
              "    </tr>\n",
              "    <tr>\n",
              "      <th>2019-04-11</th>\n",
              "      <td>44872.531250</td>\n",
              "      <td>44966.500000</td>\n",
              "      <td>44373.488281</td>\n",
              "      <td>44580.058594</td>\n",
              "      <td>44580.058594</td>\n",
              "      <td>109090000</td>\n",
              "    </tr>\n",
              "    <tr>\n",
              "      <th>2019-04-12</th>\n",
              "      <td>44767.671875</td>\n",
              "      <td>44888.699219</td>\n",
              "      <td>44534.378906</td>\n",
              "      <td>44686.058594</td>\n",
              "      <td>44686.058594</td>\n",
              "      <td>143662400</td>\n",
              "    </tr>\n",
              "    <tr>\n",
              "      <th>2019-04-15</th>\n",
              "      <td>44649.738281</td>\n",
              "      <td>44900.929688</td>\n",
              "      <td>44347.531250</td>\n",
              "      <td>44625.781250</td>\n",
              "      <td>44625.781250</td>\n",
              "      <td>108627100</td>\n",
              "    </tr>\n",
              "  </tbody>\n",
              "</table>\n",
              "</div>\n",
              "    <div class=\"colab-df-buttons\">\n",
              "\n",
              "  <div class=\"colab-df-container\">\n",
              "    <button class=\"colab-df-convert\" onclick=\"convertToInteractive('df-bdb63734-dfaf-4e86-b548-2d5eda1f8886')\"\n",
              "            title=\"Convert this dataframe to an interactive table.\"\n",
              "            style=\"display:none;\">\n",
              "\n",
              "  <svg xmlns=\"http://www.w3.org/2000/svg\" height=\"24px\" viewBox=\"0 -960 960 960\">\n",
              "    <path d=\"M120-120v-720h720v720H120Zm60-500h600v-160H180v160Zm220 220h160v-160H400v160Zm0 220h160v-160H400v160ZM180-400h160v-160H180v160Zm440 0h160v-160H620v160ZM180-180h160v-160H180v160Zm440 0h160v-160H620v160Z\"/>\n",
              "  </svg>\n",
              "    </button>\n",
              "\n",
              "  <style>\n",
              "    .colab-df-container {\n",
              "      display:flex;\n",
              "      gap: 12px;\n",
              "    }\n",
              "\n",
              "    .colab-df-convert {\n",
              "      background-color: #E8F0FE;\n",
              "      border: none;\n",
              "      border-radius: 50%;\n",
              "      cursor: pointer;\n",
              "      display: none;\n",
              "      fill: #1967D2;\n",
              "      height: 32px;\n",
              "      padding: 0 0 0 0;\n",
              "      width: 32px;\n",
              "    }\n",
              "\n",
              "    .colab-df-convert:hover {\n",
              "      background-color: #E2EBFA;\n",
              "      box-shadow: 0px 1px 2px rgba(60, 64, 67, 0.3), 0px 1px 3px 1px rgba(60, 64, 67, 0.15);\n",
              "      fill: #174EA6;\n",
              "    }\n",
              "\n",
              "    .colab-df-buttons div {\n",
              "      margin-bottom: 4px;\n",
              "    }\n",
              "\n",
              "    [theme=dark] .colab-df-convert {\n",
              "      background-color: #3B4455;\n",
              "      fill: #D2E3FC;\n",
              "    }\n",
              "\n",
              "    [theme=dark] .colab-df-convert:hover {\n",
              "      background-color: #434B5C;\n",
              "      box-shadow: 0px 1px 3px 1px rgba(0, 0, 0, 0.15);\n",
              "      filter: drop-shadow(0px 1px 2px rgba(0, 0, 0, 0.3));\n",
              "      fill: #FFFFFF;\n",
              "    }\n",
              "  </style>\n",
              "\n",
              "    <script>\n",
              "      const buttonEl =\n",
              "        document.querySelector('#df-bdb63734-dfaf-4e86-b548-2d5eda1f8886 button.colab-df-convert');\n",
              "      buttonEl.style.display =\n",
              "        google.colab.kernel.accessAllowed ? 'block' : 'none';\n",
              "\n",
              "      async function convertToInteractive(key) {\n",
              "        const element = document.querySelector('#df-bdb63734-dfaf-4e86-b548-2d5eda1f8886');\n",
              "        const dataTable =\n",
              "          await google.colab.kernel.invokeFunction('convertToInteractive',\n",
              "                                                    [key], {});\n",
              "        if (!dataTable) return;\n",
              "\n",
              "        const docLinkHtml = 'Like what you see? Visit the ' +\n",
              "          '<a target=\"_blank\" href=https://colab.research.google.com/notebooks/data_table.ipynb>data table notebook</a>'\n",
              "          + ' to learn more about interactive tables.';\n",
              "        element.innerHTML = '';\n",
              "        dataTable['output_type'] = 'display_data';\n",
              "        await google.colab.output.renderOutput(dataTable, element);\n",
              "        const docLink = document.createElement('div');\n",
              "        docLink.innerHTML = docLinkHtml;\n",
              "        element.appendChild(docLink);\n",
              "      }\n",
              "    </script>\n",
              "  </div>\n",
              "\n",
              "\n",
              "<div id=\"df-81f0b1d3-601c-4c28-9b40-1d3f3575d15e\">\n",
              "  <button class=\"colab-df-quickchart\" onclick=\"quickchart('df-81f0b1d3-601c-4c28-9b40-1d3f3575d15e')\"\n",
              "            title=\"Suggest charts\"\n",
              "            style=\"display:none;\">\n",
              "\n",
              "<svg xmlns=\"http://www.w3.org/2000/svg\" height=\"24px\"viewBox=\"0 0 24 24\"\n",
              "     width=\"24px\">\n",
              "    <g>\n",
              "        <path d=\"M19 3H5c-1.1 0-2 .9-2 2v14c0 1.1.9 2 2 2h14c1.1 0 2-.9 2-2V5c0-1.1-.9-2-2-2zM9 17H7v-7h2v7zm4 0h-2V7h2v10zm4 0h-2v-4h2v4z\"/>\n",
              "    </g>\n",
              "</svg>\n",
              "  </button>\n",
              "\n",
              "<style>\n",
              "  .colab-df-quickchart {\n",
              "      --bg-color: #E8F0FE;\n",
              "      --fill-color: #1967D2;\n",
              "      --hover-bg-color: #E2EBFA;\n",
              "      --hover-fill-color: #174EA6;\n",
              "      --disabled-fill-color: #AAA;\n",
              "      --disabled-bg-color: #DDD;\n",
              "  }\n",
              "\n",
              "  [theme=dark] .colab-df-quickchart {\n",
              "      --bg-color: #3B4455;\n",
              "      --fill-color: #D2E3FC;\n",
              "      --hover-bg-color: #434B5C;\n",
              "      --hover-fill-color: #FFFFFF;\n",
              "      --disabled-bg-color: #3B4455;\n",
              "      --disabled-fill-color: #666;\n",
              "  }\n",
              "\n",
              "  .colab-df-quickchart {\n",
              "    background-color: var(--bg-color);\n",
              "    border: none;\n",
              "    border-radius: 50%;\n",
              "    cursor: pointer;\n",
              "    display: none;\n",
              "    fill: var(--fill-color);\n",
              "    height: 32px;\n",
              "    padding: 0;\n",
              "    width: 32px;\n",
              "  }\n",
              "\n",
              "  .colab-df-quickchart:hover {\n",
              "    background-color: var(--hover-bg-color);\n",
              "    box-shadow: 0 1px 2px rgba(60, 64, 67, 0.3), 0 1px 3px 1px rgba(60, 64, 67, 0.15);\n",
              "    fill: var(--button-hover-fill-color);\n",
              "  }\n",
              "\n",
              "  .colab-df-quickchart-complete:disabled,\n",
              "  .colab-df-quickchart-complete:disabled:hover {\n",
              "    background-color: var(--disabled-bg-color);\n",
              "    fill: var(--disabled-fill-color);\n",
              "    box-shadow: none;\n",
              "  }\n",
              "\n",
              "  .colab-df-spinner {\n",
              "    border: 2px solid var(--fill-color);\n",
              "    border-color: transparent;\n",
              "    border-bottom-color: var(--fill-color);\n",
              "    animation:\n",
              "      spin 1s steps(1) infinite;\n",
              "  }\n",
              "\n",
              "  @keyframes spin {\n",
              "    0% {\n",
              "      border-color: transparent;\n",
              "      border-bottom-color: var(--fill-color);\n",
              "      border-left-color: var(--fill-color);\n",
              "    }\n",
              "    20% {\n",
              "      border-color: transparent;\n",
              "      border-left-color: var(--fill-color);\n",
              "      border-top-color: var(--fill-color);\n",
              "    }\n",
              "    30% {\n",
              "      border-color: transparent;\n",
              "      border-left-color: var(--fill-color);\n",
              "      border-top-color: var(--fill-color);\n",
              "      border-right-color: var(--fill-color);\n",
              "    }\n",
              "    40% {\n",
              "      border-color: transparent;\n",
              "      border-right-color: var(--fill-color);\n",
              "      border-top-color: var(--fill-color);\n",
              "    }\n",
              "    60% {\n",
              "      border-color: transparent;\n",
              "      border-right-color: var(--fill-color);\n",
              "    }\n",
              "    80% {\n",
              "      border-color: transparent;\n",
              "      border-right-color: var(--fill-color);\n",
              "      border-bottom-color: var(--fill-color);\n",
              "    }\n",
              "    90% {\n",
              "      border-color: transparent;\n",
              "      border-bottom-color: var(--fill-color);\n",
              "    }\n",
              "  }\n",
              "</style>\n",
              "\n",
              "  <script>\n",
              "    async function quickchart(key) {\n",
              "      const quickchartButtonEl =\n",
              "        document.querySelector('#' + key + ' button');\n",
              "      quickchartButtonEl.disabled = true;  // To prevent multiple clicks.\n",
              "      quickchartButtonEl.classList.add('colab-df-spinner');\n",
              "      try {\n",
              "        const charts = await google.colab.kernel.invokeFunction(\n",
              "            'suggestCharts', [key], {});\n",
              "      } catch (error) {\n",
              "        console.error('Error during call to suggestCharts:', error);\n",
              "      }\n",
              "      quickchartButtonEl.classList.remove('colab-df-spinner');\n",
              "      quickchartButtonEl.classList.add('colab-df-quickchart-complete');\n",
              "    }\n",
              "    (() => {\n",
              "      let quickchartButtonEl =\n",
              "        document.querySelector('#df-81f0b1d3-601c-4c28-9b40-1d3f3575d15e button');\n",
              "      quickchartButtonEl.style.display =\n",
              "        google.colab.kernel.accessAllowed ? 'block' : 'none';\n",
              "    })();\n",
              "  </script>\n",
              "</div>\n",
              "\n",
              "    </div>\n",
              "  </div>\n"
            ],
            "application/vnd.google.colaboratory.intrinsic+json": {
              "type": "dataframe",
              "variable_name": "mxx_index",
              "summary": "{\n  \"name\": \"mxx_index\",\n  \"rows\": 1258,\n  \"fields\": [\n    {\n      \"column\": \"Date\",\n      \"properties\": {\n        \"dtype\": \"date\",\n        \"min\": \"2019-04-09 00:00:00\",\n        \"max\": \"2024-04-08 00:00:00\",\n        \"num_unique_values\": 1258,\n        \"samples\": [\n          \"2021-07-02 00:00:00\",\n          \"2019-09-02 00:00:00\",\n          \"2019-06-24 00:00:00\"\n        ],\n        \"semantic_type\": \"\",\n        \"description\": \"\"\n      }\n    },\n    {\n      \"column\": \"Open\",\n      \"properties\": {\n        \"dtype\": \"number\",\n        \"std\": 6026.972574022304,\n        \"min\": 33338.37890625,\n        \"max\": 58856.23046875,\n        \"num_unique_values\": 1256,\n        \"samples\": [\n          44642.2890625,\n          42621.87109375,\n          43568.21875\n        ],\n        \"semantic_type\": \"\",\n        \"description\": \"\"\n      }\n    },\n    {\n      \"column\": \"High\",\n      \"properties\": {\n        \"dtype\": \"number\",\n        \"std\": 6044.154080882413,\n        \"min\": 33896.28125,\n        \"max\": 59020.55078125,\n        \"num_unique_values\": 1257,\n        \"samples\": [\n          44650.921875,\n          42621.87109375,\n          43790.28125\n        ],\n        \"semantic_type\": \"\",\n        \"description\": \"\"\n      }\n    },\n    {\n      \"column\": \"Low\",\n      \"properties\": {\n        \"dtype\": \"number\",\n        \"std\": 6029.137596935095,\n        \"min\": 32503.25,\n        \"max\": 58382.76171875,\n        \"num_unique_values\": 1258,\n        \"samples\": [\n          50162.71875,\n          41988.01171875,\n          43546.6484375\n        ],\n        \"semantic_type\": \"\",\n        \"description\": \"\"\n      }\n    },\n    {\n      \"column\": \"Close\",\n      \"properties\": {\n        \"dtype\": \"number\",\n        \"std\": 6040.988232180752,\n        \"min\": 32964.21875,\n        \"max\": 58711.87109375,\n        \"num_unique_values\": 1258,\n        \"samples\": [\n          50223.01171875,\n          42108.23046875,\n          43743.71875\n        ],\n        \"semantic_type\": \"\",\n        \"description\": \"\"\n      }\n    },\n    {\n      \"column\": \"Adj Close\",\n      \"properties\": {\n        \"dtype\": \"number\",\n        \"std\": 6040.988232180752,\n        \"min\": 32964.21875,\n        \"max\": 58711.87109375,\n        \"num_unique_values\": 1258,\n        \"samples\": [\n          50223.01171875,\n          42108.23046875,\n          43743.71875\n        ],\n        \"semantic_type\": \"\",\n        \"description\": \"\"\n      }\n    },\n    {\n      \"column\": \"Volume\",\n      \"properties\": {\n        \"dtype\": \"number\",\n        \"std\": 130429778,\n        \"min\": 0,\n        \"max\": 2341620200,\n        \"num_unique_values\": 1257,\n        \"samples\": [\n          55365200,\n          43877100,\n          98815300\n        ],\n        \"semantic_type\": \"\",\n        \"description\": \"\"\n      }\n    }\n  ]\n}"
            }
          },
          "metadata": {},
          "execution_count": 39
        }
      ]
    },
    {
      "cell_type": "code",
      "source": [
        "spx_index['adj_close_last_year'] = spx_index['Adj Close'].shift(252)\n",
        "mxx_index['adj_close_last_year'] = mxx_index['Adj Close'].shift(252)\n",
        "\n",
        "spx_index['yoy_growth'] = spx_index['Adj Close'] / spx_index['adj_close_last_year'] -1\n",
        "mxx_index['yoy_growth'] = mxx_index['Adj Close'] / mxx_index['adj_close_last_year'] -1"
      ],
      "metadata": {
        "id": "KGxyU7pQJw1B"
      },
      "execution_count": 45,
      "outputs": []
    },
    {
      "cell_type": "markdown",
      "source": [],
      "metadata": {
        "id": "h56lYYxsIzUo"
      }
    },
    {
      "cell_type": "code",
      "source": [
        "print(spx_index['yoy_growth'].mean())\n",
        "print(mxx_index['yoy_growth'].mean())"
      ],
      "metadata": {
        "colab": {
          "base_uri": "https://localhost:8080/"
        },
        "id": "QLiALW00MCsi",
        "outputId": "25b80c86-00bc-4570-cbe0-f7789d6091f5"
      },
      "execution_count": 53,
      "outputs": [
        {
          "output_type": "stream",
          "name": "stdout",
          "text": [
            "0.1250282080646889\n",
            "0.07461070929886846\n"
          ]
        }
      ]
    },
    {
      "cell_type": "markdown",
      "source": [
        "# **Question 4. [Stocks OHLCV] 52-weeks range ratio (2023) for the selected stocks**\n",
        "Find the largest range ratio [=(max-min)/max] of Adj.Close prices in 2023\n",
        "\n",
        "Download the 2023 daily OHLCV data on Yahoo Finance for top6 stocks on earnings (https://companiesmarketcap.com/most-profitable-companies/): 2222.SR,BRK-B, AAPL, MSFT, GOOG, JPM.\n",
        "\n",
        "Here is the example data you should see in Pandas for \"2222.SR\": https://finance.yahoo.com/quote/2222.SR/history\n",
        "\n",
        "Calculate maximum-minimim \"Adj.Close\" price for each stock and divide it by the maximum \"Adj.Close\" value. Round the result to two decimal places (e.g. 0.1575 will be 0.16)\n",
        "\n",
        "(Additional: why this may be important for your research?)"
      ],
      "metadata": {
        "id": "XaaasE75Nhy4"
      }
    },
    {
      "cell_type": "code",
      "source": [
        "# INDEXES from Yahoo Finance\n",
        "# DAX index (XETRA - XETRA Delayed Price. Currency in EUR)\n",
        "# WEB: https://finance.yahoo.com/quote/%5EGDAXI\n",
        "sr_daily = yf.download(tickers = \"2222.SR\", start = '2023-01-01', end = '2023-12-31', period = \"max\", interval = \"1d\")\n",
        "brkb_daily = yf.download(tickers = \"BRK-B\", start = '2023-01-01', end = '2023-12-31', period = \"max\", interval = \"1d\")\n",
        "aapl_daily = yf.download(tickers = \"AAPL\", start = '2023-01-01', end = '2023-12-31', period = \"max\", interval = \"1d\")\n",
        "msft_daily = yf.download(tickers = \"MSFT\", start = '2023-01-01', end = '2023-12-31', period = \"max\", interval = \"1d\")\n",
        "goog_daily = yf.download(tickers = \"GOOG\", start = '2023-01-01', end = '2023-12-31', period = \"max\", interval = \"1d\")\n",
        "jpm_daily = yf.download(tickers = \"JPM\", start = '2023-01-01', end = '2023-12-31', period = \"max\", interval = \"1d\")"
      ],
      "metadata": {
        "colab": {
          "base_uri": "https://localhost:8080/"
        },
        "id": "HiF8blfrNkLr",
        "outputId": "fde8a933-23bb-41e6-acbb-ee95e09d691c"
      },
      "execution_count": 67,
      "outputs": [
        {
          "output_type": "stream",
          "name": "stderr",
          "text": [
            "[*********************100%%**********************]  1 of 1 completed\n",
            "[*********************100%%**********************]  1 of 1 completed\n",
            "[*********************100%%**********************]  1 of 1 completed\n",
            "[*********************100%%**********************]  1 of 1 completed\n",
            "[*********************100%%**********************]  1 of 1 completed\n",
            "[*********************100%%**********************]  1 of 1 completed\n"
          ]
        }
      ]
    },
    {
      "cell_type": "code",
      "source": [
        "print((sr_daily['Adj Close'].max() - sr_daily['Adj Close'].min())/ sr_daily['Adj Close'].max() )\n",
        "print((brkb_daily['Adj Close'].max() - brkb_daily['Adj Close'].min())/ brkb_daily['Adj Close'].max() )\n",
        "print((aapl_daily['Adj Close'].max() - aapl_daily['Adj Close'].min())/ aapl_daily['Adj Close'].max() )\n",
        "print((msft_daily['Adj Close'].max() - msft_daily['Adj Close'].min())/ msft_daily['Adj Close'].max() )\n",
        "print((goog_daily['Adj Close'].max() - goog_daily['Adj Close'].min())/ goog_daily['Adj Close'].max() )\n",
        "print((jpm_daily['Adj Close'].max() - jpm_daily['Adj Close'].min())/ jpm_daily['Adj Close'].max() )"
      ],
      "metadata": {
        "colab": {
          "base_uri": "https://localhost:8080/"
        },
        "id": "ojkqSfbwNkGY",
        "outputId": "f73b4d5b-4835-4168-d6dc-2d856c28992e"
      },
      "execution_count": 70,
      "outputs": [
        {
          "output_type": "stream",
          "name": "stdout",
          "text": [
            "0.21393070882746015\n",
            "0.20775750091289963\n",
            "0.37244419224463476\n",
            "0.4242066914981641\n",
            "0.3924520921912013\n",
            "0.2824993421323472\n"
          ]
        }
      ]
    },
    {
      "cell_type": "markdown",
      "source": [
        "# **Question 5. [Stocks] Dividend Yield**\n",
        "Find the largest dividend yield for the same set of stocks\n",
        "\n",
        "Use the same list of companies (2222.SR,BRK-B, AAPL, MSFT, GOOG, JPM) and download all dividends paid in 2023. You can use get_actions() method or .dividends field in yfinance library (https://github.com/ranaroussi/yfinance?tab=readme-ov-file#quick-start)\n",
        "\n",
        "Sum up all dividends paid in 2023 per company and divide each value by the closing price (Adj.Close) at the last trading day of the year.\n",
        "\n",
        "Find the maximum value in % and round to 1 digit after the decimal point. (E.g., if you obtained $1.25 dividends paid and the end year stock price is $100, the dividend yield is 1.25% -- and your answer should be equal to 1.3)"
      ],
      "metadata": {
        "id": "w2suq6dLP5-G"
      }
    },
    {
      "cell_type": "code",
      "source": [
        "#sr\n",
        "sr = yf.Ticker('2222.SR')\n",
        "sr_df = sr.get_actions()\n",
        "sr_df = sr_df[(sr_df.index >='2023-01-01') & (sr_df.index <='2023-12-31')]\n",
        "print(sr_df['Dividends'].sum()/sr_daily['Adj Close'].iloc[-1])\n",
        "\n",
        "#brkb\n",
        "brkb = yf.Ticker('BRK-B')\n",
        "brkb_df = brkb.get_actions()\n",
        "brkb_df = brkb_df[(brkb_df.index >='2023-01-01') & (brkb_df.index <='2023-12-31')]\n",
        "print(brkb_df['Dividends'].sum()/brkb_daily['Adj Close'].iloc[-1])\n",
        "\n",
        "#aapl\n",
        "aapl = yf.Ticker('AAPL')\n",
        "aapl_df = aapl.get_actions()\n",
        "aapl_df = aapl_df[(aapl_df.index >='2023-01-01') & (aapl_df.index <='2023-12-31')]\n",
        "print(aapl_df['Dividends'].sum()/aapl_daily['Adj Close'].iloc[-1])\n",
        "\n",
        "#msft\n",
        "msft = yf.Ticker('MSFT')\n",
        "msft_df = msft.get_actions()\n",
        "msft_df = msft_df[(msft_df.index >='2023-01-01') & (msft_df.index <='2023-12-31')]\n",
        "print(msft_df['Dividends'].sum()/msft_daily['Adj Close'].iloc[-1])\n",
        "\n",
        "#goog\n",
        "goog = yf.Ticker('GOOG')\n",
        "goog_df = goog.get_actions()\n",
        "goog_df = goog_df[(goog_df.index >='2023-01-01') & (goog_df.index <='2023-12-31')]\n",
        "print(goog_df['Dividends'].sum()/goog_daily['Adj Close'].iloc[-1])\n",
        "\n",
        "#goog\n",
        "jpm = yf.Ticker('JPM')\n",
        "jpm_df = jpm.get_actions()\n",
        "jpm_df = jpm_df[(jpm_df.index >='2023-01-01') & (jpm_df.index <='2023-12-31')]\n",
        "print(jpm_df['Dividends'].sum()/jpm_daily['Adj Close'].iloc[-1])"
      ],
      "metadata": {
        "colab": {
          "base_uri": "https://localhost:8080/"
        },
        "id": "-c60QfebNjSo",
        "outputId": "3490e5a4-8fa6-4b43-ac7e-4a5f10a61e7e"
      },
      "execution_count": 90,
      "outputs": [
        {
          "output_type": "stream",
          "name": "stdout",
          "text": [
            "0.027701498195032558\n",
            "0.0\n",
            "0.004940592304162832\n",
            "0.007433143940964608\n",
            "0.0\n",
            "0.024096079718909574\n"
          ]
        }
      ]
    }
  ]
}